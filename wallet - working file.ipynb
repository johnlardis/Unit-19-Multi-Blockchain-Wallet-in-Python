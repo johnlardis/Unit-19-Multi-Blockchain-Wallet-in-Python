{
 "cells": [
  {
   "cell_type": "code",
   "execution_count": 1,
   "id": "a9d97ec3-9720-4af4-8c1d-21bbd0531ce8",
   "metadata": {},
   "outputs": [
    {
     "data": {
      "text/plain": [
       "True"
      ]
     },
     "execution_count": 1,
     "metadata": {},
     "output_type": "execute_result"
    }
   ],
   "source": [
    "# Import dependencies\n",
    "import subprocess\n",
    "import json\n",
    "import os\n",
    "import dotenv\n",
    "\n",
    "from dotenv import load_dotenv\n",
    "from web3 import Web3\n",
    "from eth_account import Account\n",
    "from pathlib import Path\n",
    "from getpass import getpass\n",
    "from constants import *\n",
    "from web3 import Web3\n",
    "from bip_utils import Bip32, Bip39SeedGenerator, Bip44, Bip44Coins, Bip44Changes\n",
    "\n",
    "from bit import PrivateKeyTestnet\n",
    "from bit.network import NetworkAPI\n",
    "from web3.middleware import geth_poa_middleware\n",
    "from web3.gas_strategies.time_based import medium_gas_price_strategy\n",
    "load_dotenv()"
   ]
  },
  {
   "cell_type": "code",
   "execution_count": 2,
   "id": "c0e7d211-49c6-4844-968f-9c1197c5ce89",
   "metadata": {},
   "outputs": [],
   "source": [
    "# Load and set environment variables\n",
    "\n",
    "mnemonic = os.getenv(\"mnemonic\")\n",
    "numderive = 3\n",
    "w3 = Web3(Web3.HTTPProvider(\"http://127.0.0.1:8545\"))\n",
    "alpaca_api_key = os.getenv(\"ALPACA_API_KEY\")\n"
   ]
  },
  {
   "cell_type": "code",
   "execution_count": 3,
   "id": "23edb059-6024-4592-a632-d0dbf6bc3704",
   "metadata": {},
   "outputs": [
    {
     "name": "stdout",
     "output_type": "stream",
     "text": [
      "visa flat sword can champion price soccer category order concert amount soccer number merry agent\n"
     ]
    }
   ],
   "source": [
    "print(mnemonic)"
   ]
  },
  {
   "cell_type": "code",
   "execution_count": 5,
   "id": "71132e69-9970-4c88-b1a1-d7c80540884f",
   "metadata": {},
   "outputs": [],
   "source": [
    "# Create a function called `derive_wallets`\n",
    "def derive_wallets(mnemoic,coin,numderive):\n",
    "    command = f' ./derive -g --mnemonic=\"{mnemonic}\" --numderive=\"{numderive}\" --coin=\"{coin}\" --format=json' \n",
    "    p = subprocess.Popen(command,stdout=subprocess.PIPE,shell=True)\n",
    "    output, err = p.communicate()\n",
    "    p_status = p.wait()\n",
    "    key_string = output.decode()\n",
    "    return json.loads(output)"
   ]
  },
  {
   "cell_type": "code",
   "execution_count": 6,
   "id": "10acbd46-9bd7-480f-8c02-0f30eb06c46f",
   "metadata": {},
   "outputs": [
    {
     "data": {
      "text/plain": [
       "[{'path': \"m/44'/0'/0'/0/0\",\n",
       "  'address': '1JEFFubcsGVXthZoa73gjv8K1uXHs2SS97',\n",
       "  'xprv': 'xprvA2rhLW3417bYJwb1FzAhD7wxB8tqnE7XvXfS48m4u3WdpPj5ETyDVcnkabDzKXyyNsRh6jNkLKfHXUdmYUwSZBJKb21K6Bg7qmdsFx2qx7a',\n",
       "  'xpub': 'xpub6Fr3k1ZwqV9qXRfUN1hhaFtgjAjLBgqPHkb2rXAgTP3chC4Dn1HU3R7ERt3wpMz8VTdnHqrtyUttHw23q8XpTZo3BZMUsAbvxv2X3fsoSn2',\n",
       "  'privkey': 'L1zZzB2CXaytY6TeQULrXTUYkMfvh3yMAJbqY4aGsDmrbV2iMkQM',\n",
       "  'pubkey': '037b010be56879cf14e8061f315b87e0f9249d602f5acb4328d2d54dde2a8b26a1',\n",
       "  'pubkeyhash': 'bcfb726d88ebbce96a304f5a36e75d5ee8ed2c7a',\n",
       "  'index': 0},\n",
       " {'path': \"m/44'/0'/0'/0/1\",\n",
       "  'address': '17L58PTAetjejLfYumiErf6uHsZvyby4vC',\n",
       "  'xprv': 'xprvA2rhLW3417bYL15MCAURoP1NN21rV3Q19fcGBggt8gqqBcGG4QDwTj6dYjfMuMiaDwgCNGVcy8WX8JK1GmECC9Xjwv6GBVw1PckX47e7V4u',\n",
       "  'xpub': 'xpub6Fr3k1ZwqV9qYV9pJC1SAWx6v3rLtW7rWtXrz56Vh2Np4QbQbwYC1XR7Pzs61BCF2v6FdVbxYZYaD3qTLMhusReoqi1uKzUC8YvUPGbohfR',\n",
       "  'privkey': 'L2VfyJXCQ6PdnHatHTmRKc4eq9KLJYbAwL5dhLF51QPCk32jPNGe',\n",
       "  'pubkey': '02b4034df2bd8ccc29cbc9bbb830e5b7a5f35c44a4e71dd7cd1a9e01954f434234',\n",
       "  'pubkeyhash': '456c1a739770bdabbe51904a612ca3209d3b05f6',\n",
       "  'index': 1},\n",
       " {'path': \"m/44'/0'/0'/0/2\",\n",
       "  'address': '1HDbaM1AZdotYiSMoegA4RQbp9dGjGeZ8k',\n",
       "  'xprv': 'xprvA2rhLW3417bYP9VhQPr2qG5kXPMnE34GKqpsqRXkFfdaB6v9v877NCjuXaBYS6WeBrs2rKCH71941NihRy8beCqE99e4N6b3dAv2krVswXW',\n",
       "  'xpub': 'xpub6Fr3k1ZwqV9qbdaAWRP3CQ2V5RCGdVn7h4kUdowMp1AZ3uFJTfRMv14PNrg5eoG1ZzAfXA91kttumXUoBwne64oSoHpNTizCCpc4pGz7qfv',\n",
       "  'privkey': 'L1juh5a18edVTJzT1obbnpZY48LHXhNtRi3n3GZug7g1WaTALuaL',\n",
       "  'pubkey': '03475eb9be3dc052318e9c4256684c4d7660b070792afcfda39c2b13d27486b3ef',\n",
       "  'pubkeyhash': 'b1e3dda2c17ffa222dc43e0dbba9f5656f99ad00',\n",
       "  'index': 2}]"
      ]
     },
     "execution_count": 6,
     "metadata": {},
     "output_type": "execute_result"
    }
   ],
   "source": [
    "#test that derive_wallets works\n",
    "\n",
    "derive_wallets(mnemonic,\"BTC\", 3)\n"
   ]
  },
  {
   "cell_type": "code",
   "execution_count": 7,
   "id": "27a56622-8f79-48fd-abfd-d6a54e050c86",
   "metadata": {},
   "outputs": [],
   "source": [
    "# Create a dictionary object called coins to store the output from `derive_wallets`.\n",
    "coins = {\"eth\", \"btc-test\", \"btc\"}\n",
    "\n",
    "keys = {}\n",
    "for coin in coins:\n",
    "    keys[coin]= derive_wallets(os.getenv('mnemonic'), coin, numderive)"
   ]
  },
  {
   "cell_type": "code",
   "execution_count": 14,
   "id": "ee864904-ff6d-4e7f-ab21-e9618f6e6977",
   "metadata": {},
   "outputs": [
    {
     "data": {
      "text/plain": [
       "[{'path': \"m/44'/60'/0'/0/0\",\n",
       "  'address': '0xe8e5055161b76B2b3Fd4BF78627eA03A24a5b2a8',\n",
       "  'xprv': 'xprvA3ZeV5ZiRSipR377iaY8HwpuGBpCU6iQUy9sxAKih3htREkH9UJXt5gyFx21gt73zWHD1TaCHex3r59VSLDWrBgg4mH8vDoUfsdZEqFzoUK',\n",
       "  'xpub': 'xpub6GYztb6cFpH7dXBapc58f5mdpDegsZSFrC5UkYjLFPEsJ35Rh1cnRt1T7Bf8GbhYzeNagBu8K2zY5wKJdjw33Pbmwvk6Vk1RuFfieeoRMXp',\n",
       "  'privkey': '0xb934c9c2bf9b21e3d497527e142ac5e8b76c31e67547f34091bff783bfbbddb2',\n",
       "  'pubkey': '020213001f64f020e9b4119febaf3f0a5e2a9a597984d6eff03de23210a51fc47e',\n",
       "  'pubkeyhash': '520fa4ba6aae9aa11eece1ce2d6f414fc8203d63',\n",
       "  'index': 0},\n",
       " {'path': \"m/44'/60'/0'/0/1\",\n",
       "  'address': '0xA2933fF10fA9517245d6c7e439AAB80C62148c00',\n",
       "  'xprv': 'xprvA3ZeV5ZiRSipV7G14weebBHpDAB9faiEbpmSiFtmcWZQXNBk2amRMobRCELBzoeb4ANqdtLxtkEgtUDMe2TgWFtJff46voY69HXd2nupi6G',\n",
       "  'xpub': 'xpub6GYztb6cFpH7hbLUAyBexKEYmC1e53S5y3h3WeJPAr6PQAWta85fubuu3VoQFLJX722VjnwsjKJwSBWrjQ1roAciZpRw1Rcwvs3tGpKfiUU',\n",
       "  'privkey': '0xd959a02d3490b3aa3b4acb466b23276f23ed8fe6f6e08cfe32ba5245624a3493',\n",
       "  'pubkey': '03132043281b8b781d4f46f419e0e78bc4946f5d31e98ffa6af76cd470fbbe2662',\n",
       "  'pubkeyhash': '109af560f53bd78f0985a3d69e8cc847c2aa1154',\n",
       "  'index': 1},\n",
       " {'path': \"m/44'/60'/0'/0/2\",\n",
       "  'address': '0xE7396eE5Ce017c60968B04a8F7BE8EAb892321ea',\n",
       "  'xprv': 'xprvA3ZeV5ZiRSipYY56RW4EqCq4AV8N9djvf7yKu3Z3ZrRg1DA64yeipFFvcvKq5xbDMCJcyyVeivc6ZQ1JZKFSbJurtiSzgF5aRerBdQtM7g2',\n",
       "  'xpub': 'xpub6GYztb6cFpH7m29ZXXbFCLmniWxrZ6Tn2LtvhRxf8Bxet1VEcWxyN3aQUCSHcS6iVJEuSuku5DQyDcAPLDPYq4UceNzFgZwkRgW15Znm2fk',\n",
       "  'privkey': '0xf0cc24a04b7a45a45c83d3057aa3bef89196e5a92977be4b0472bc1de01f0c00',\n",
       "  'pubkey': '037f252db7cf2bde359e0d879205a9659d6430a0ea34a77338e4fe1bd2eca95a6a',\n",
       "  'pubkeyhash': '88c0b009a72c9abed10aedc2862f628a1c0116fe',\n",
       "  'index': 2}]"
      ]
     },
     "execution_count": 14,
     "metadata": {},
     "output_type": "execute_result"
    }
   ],
   "source": [
    "derive_wallets(os.getenv('mnemonic'), ETH, numderive)"
   ]
  },
  {
   "cell_type": "code",
   "execution_count": 9,
   "id": "716df9c3-fbcc-42d3-b5dd-4f823d764343",
   "metadata": {},
   "outputs": [
    {
     "data": {
      "text/plain": [
       "'L2VfyJXCQ6PdnHatHTmRKc4eq9KLJYbAwL5dhLF51QPCk32jPNGe'"
      ]
     },
     "execution_count": 9,
     "metadata": {},
     "output_type": "execute_result"
    }
   ],
   "source": [
    "keys[BTC][1]['privkey']  #test "
   ]
  },
  {
   "cell_type": "code",
   "execution_count": null,
   "id": "c97c9730-85b4-4cec-8164-39aace94e755",
   "metadata": {},
   "outputs": [],
   "source": []
  },
  {
   "cell_type": "code",
   "execution_count": null,
   "id": "5b1e863c-3007-49f7-903d-b0daa88250a4",
   "metadata": {},
   "outputs": [],
   "source": [
    "eth_PrivateKey = keys[\"eth\"][0]['privkey']\n",
    "btc_PrivateKey = keys['btc'][0]['privkey']\n",
    "btc_test_PrivateKey = keys['btc-test'][0]['privkey']\n",
    "\n",
    "print(eth_PrivateKey,btc_PrivateKey,btc_test_PrivateKey)"
   ]
  },
  {
   "cell_type": "code",
   "execution_count": null,
   "id": "472c2516-6751-4b4c-9ae0-be549b96e922",
   "metadata": {},
   "outputs": [],
   "source": [
    "print(json.dumps(eth_PrivateKey))"
   ]
  },
  {
   "cell_type": "code",
   "execution_count": null,
   "id": "ca2ceb97-d359-4335-a72e-331bd3623d43",
   "metadata": {},
   "outputs": [],
   "source": [
    "eth_PrivateKey"
   ]
  },
  {
   "cell_type": "code",
   "execution_count": null,
   "id": "c28618e6-db9a-4afd-bcf9-6c7607245336",
   "metadata": {},
   "outputs": [],
   "source": [
    "\n",
    "# Create a function called `priv_key_to_account` that converts privkey strings to account objects.\n",
    "def priv_key_to_account(coin,priv_key):   #priv_key\n",
    "    if coin == ETH:\n",
    "        return Account.privateKeyToAccount(priv_key)\n",
    "    if coin == BTCTEST:\n",
    "        return PrivateKeyTestnet(priv_key)  \n",
    "    \n"
   ]
  },
  {
   "cell_type": "code",
   "execution_count": null,
   "id": "12b98ae3-7453-43f3-856e-6cd83bd03b50",
   "metadata": {},
   "outputs": [],
   "source": [
    "priv_key_to_account(BTCTEST,btc_test_PrivateKey)"
   ]
  },
  {
   "cell_type": "code",
   "execution_count": null,
   "id": "e8809d35-7211-4995-8b28-13c3a6e9392a",
   "metadata": {},
   "outputs": [],
   "source": []
  },
  {
   "cell_type": "code",
   "execution_count": null,
   "id": "7790ae0b-44d2-4e49-8742-6637acf76ca8",
   "metadata": {},
   "outputs": [],
   "source": [
    "\n",
    "# Create a function called `create_tx` that creates an unsigned transaction appropriate metadata.\n",
    "def create_tx(coin,account,recipient,amount): #account\n",
    "    \n",
    "    if coin ==ETH:    \n",
    "        gasEstimate = w3.eth.estimateGas({\"from\":account.address,\"to\":recipient,\"value\":amount})\n",
    "        return {\n",
    "            \n",
    "            \"from\": account.address,\n",
    "            \"to\": to,\n",
    "            \"value\": amount,\n",
    "            \"gasPrice\": w3.eth.gasPrice,\n",
    "            \"gas\": gasEstimate,\n",
    "            \"chainId\": 999,\n",
    "            \"nonce\" : w3.eth.getTransactionCount(account.address)\n",
    "        }\n",
    "    elif coin == BTCTEST:\n",
    "        return PrivateKeyTestnet.prepare_transaction(account.address, [(recipient, amount, BTC)])\n",
    "       "
   ]
  },
  {
   "cell_type": "code",
   "execution_count": null,
   "id": "4e79f7e0-02cc-4d0e-af35-77f656532681",
   "metadata": {},
   "outputs": [],
   "source": [
    "test = create_tx(BTC,\"Test1\",\"Test2\",400)"
   ]
  },
  {
   "cell_type": "code",
   "execution_count": null,
   "id": "63e85540-1e54-41b5-91fd-98595dd3f759",
   "metadata": {},
   "outputs": [],
   "source": [
    "print(test)"
   ]
  },
  {
   "cell_type": "code",
   "execution_count": null,
   "id": "6b302187-5b08-4be4-adb8-59328e72b075",
   "metadata": {},
   "outputs": [],
   "source": [
    "# Create a function called `send_tx` that calls `create_tx`, signs and sends the transaction.\n",
    "def send_tx(account,recipient,amount):\n",
    "    tx = create_raw_tx(account,recipient,amount)\n",
    "    if coin == ETH:\n",
    "        signed_txn = account.sign_transaction(tx)\n",
    "        result = w3.eth.sendRawTransaction(signed_tx.rawTransaction)\n",
    "       # print(result.hex())\n",
    "        return result.hex()\n",
    "    \n",
    "    elif coin == BTCTEST:\n",
    "        tx_btctest = create_tx(coin, account, recipient, amount)\n",
    "        signed_tx = account.sign_transaction(tx)\n",
    "       # print(signed_tx)\n",
    "        return NetworkAPI.broadcast_tx_testnet(signed_tx)\n",
    "    \n"
   ]
  },
  {
   "cell_type": "code",
   "execution_count": null,
   "id": "0b6220ef-214f-4fec-9b91-7d198cda0f8f",
   "metadata": {},
   "outputs": [],
   "source": []
  },
  {
   "cell_type": "code",
   "execution_count": null,
   "id": "1bfb7e8e-57f6-4619-960c-120a2fcf2e4d",
   "metadata": {},
   "outputs": [],
   "source": []
  }
 ],
 "metadata": {
  "kernelspec": {
   "display_name": "Python [conda env:dev] *",
   "language": "python",
   "name": "conda-env-dev-py"
  },
  "language_info": {
   "codemirror_mode": {
    "name": "ipython",
    "version": 3
   },
   "file_extension": ".py",
   "mimetype": "text/x-python",
   "name": "python",
   "nbconvert_exporter": "python",
   "pygments_lexer": "ipython3",
   "version": "3.7.10"
  }
 },
 "nbformat": 4,
 "nbformat_minor": 5
}
